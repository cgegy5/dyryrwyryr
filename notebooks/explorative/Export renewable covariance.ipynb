{
 "cells": [
  {
   "cell_type": "code",
   "execution_count": 8,
   "metadata": {},
   "outputs": [
    {
     "name": "stdout",
     "output_type": "stream",
     "text": [
      "The autoreload extension is already loaded. To reload it, use:\n",
      "  %reload_ext autoreload\n"
     ]
    }
   ],
   "source": [
    "pretty = True\n",
    "highres = True\n",
    "\n",
    "%matplotlib inline\n",
    "if highres:\n",
    "    %config InlineBackend.figure_format = 'retina'\n",
    "else:\n",
    "    %config InlineBackend.figure_format = 'png'\n",
    "\n",
    "#rcParams[\"figure.dpi\"]=300\n",
    "\n",
    "import sys\n",
    "from pathlib import Path\n",
    "\n",
    "pypsapath = \"C:/dev/py/PyPSA/\"\n",
    "\n",
    "if sys.path[0] != pypsapath:\n",
    "    sys.path.insert(0,pypsapath)\n",
    "\n",
    "if Path(\"..\") not in [Path(p) for p in sys.path]:\n",
    "    sys.path.insert(0,\"..\")\n",
    "\n",
    "%load_ext autoreload\n",
    "%autoreload 2"
   ]
  },
  {
   "cell_type": "code",
   "execution_count": 9,
   "metadata": {},
   "outputs": [],
   "source": [
    "import src.globals\n",
    "from src.scigridnetwork import SciGRID_network\n",
    "from src.armafitloader import ARMAfit_loader"
   ]
  },
  {
   "cell_type": "code",
   "execution_count": 10,
   "metadata": {},
   "outputs": [],
   "source": [
    "import pypsa\n",
    "import numpy as np\n",
    "import pandas as pd\n",
    "import os\n",
    "import itertools\n",
    "\n",
    "import matplotlib.pyplot as plt\n",
    "import matplotlib.ticker\n",
    "import matplotlib.dates\n",
    "import matplotlib.font_manager\n",
    "from matplotlib import rcParams\n",
    "\n",
    "rcParams[\"font.family\"] = \"sans-serif\"\n",
    "\n",
    "\n",
    "from IPython.display import Markdown, display\n",
    "printm = lambda s: display(Markdown(s))\n",
    "\n",
    "from tqdm import tqdm"
   ]
  },
  {
   "cell_type": "markdown",
   "metadata": {},
   "source": [
    "## SciGRID dataset"
   ]
  },
  {
   "cell_type": "code",
   "execution_count": 11,
   "metadata": {},
   "outputs": [
    {
     "name": "stderr",
     "output_type": "stream",
     "text": [
      "WARNING:pypsa.io:\n",
      "Importing PyPSA from older version of PyPSA than current version 0.13.2.\n",
      "Please read the release notes at https://pypsa.org/doc/release_notes.html\n",
      "carefully to prepare your network for import.\n",
      "\n",
      "WARNING:pypsa.io:'current_type' for buses is deprecated, use 'carrier' instead.\n",
      "WARNING:pypsa.io:'source' for generators is deprecated, use 'carrier' instead.\n",
      "WARNING:pypsa.io:'dispatch' for generators is deprecated, use time-varing 'p_max_pu' for 'variable' and static 'p_max_pu' for 'flexible'.\n",
      "WARNING:pypsa.io:'p_max_pu_fixed' for generators is deprecated, use static 'p_max_pu' instead.\n",
      "WARNING:pypsa.io:'p_min_pu_fixed' for generators is deprecated, use static 'p_min_pu' instead.\n",
      "WARNING:pypsa.io:'p_max_pu_fixed' for generators is deprecated, use static 'p_max_pu' instead.\n",
      "WARNING:pypsa.io:'p_min_pu_fixed' for generators is deprecated, use static 'p_min_pu' instead.\n",
      "INFO:pypsa.io:Imported network scigrid-with-load-gen-trafos has buses, generators, lines, loads, storage_units, transformers\n"
     ]
    }
   ],
   "source": [
    "sgn = SciGRID_network()"
   ]
  },
  {
   "cell_type": "code",
   "execution_count": 12,
   "metadata": {},
   "outputs": [
    {
     "data": {
      "text/plain": [
       "['__class__',\n",
       " '__delattr__',\n",
       " '__dict__',\n",
       " '__dir__',\n",
       " '__doc__',\n",
       " '__eq__',\n",
       " '__format__',\n",
       " '__ge__',\n",
       " '__getattribute__',\n",
       " '__getitem__',\n",
       " '__gt__',\n",
       " '__hash__',\n",
       " '__init__',\n",
       " '__init_subclass__',\n",
       " '__le__',\n",
       " '__lt__',\n",
       " '__module__',\n",
       " '__ne__',\n",
       " '__new__',\n",
       " '__reduce__',\n",
       " '__reduce_ex__',\n",
       " '__repr__',\n",
       " '__setattr__',\n",
       " '__sizeof__',\n",
       " '__str__',\n",
       " '__subclasshook__',\n",
       " '__weakref__',\n",
       " '_build_dataframes',\n",
       " '_retrieve_overridden_components',\n",
       " 'add',\n",
       " 'adjacency_matrix',\n",
       " 'all_components',\n",
       " 'branch_components',\n",
       " 'branches',\n",
       " 'buses',\n",
       " 'buses_t',\n",
       " 'calculate_dependent_values',\n",
       " 'carriers',\n",
       " 'carriers_t',\n",
       " 'component_attrs',\n",
       " 'components',\n",
       " 'consistency_check',\n",
       " 'controllable_branch_components',\n",
       " 'controllable_branches',\n",
       " 'controllable_one_port_components',\n",
       " 'copy',\n",
       " 'determine_network_topology',\n",
       " 'df',\n",
       " 'export_to_csv_folder',\n",
       " 'export_to_hdf5',\n",
       " 'export_to_netcdf',\n",
       " 'generators',\n",
       " 'generators_t',\n",
       " 'global_constraints',\n",
       " 'global_constraints_t',\n",
       " 'graph',\n",
       " 'import_components_from_dataframe',\n",
       " 'import_from_csv_folder',\n",
       " 'import_from_hdf5',\n",
       " 'import_from_netcdf',\n",
       " 'import_from_pandapower_net',\n",
       " 'import_from_pypower_ppc',\n",
       " 'import_series_from_dataframe',\n",
       " 'incidence_matrix',\n",
       " 'iplot',\n",
       " 'iterate_components',\n",
       " 'line_types',\n",
       " 'line_types_t',\n",
       " 'lines',\n",
       " 'lines_t',\n",
       " 'links',\n",
       " 'links_t',\n",
       " 'loads',\n",
       " 'loads_t',\n",
       " 'lopf',\n",
       " 'lpf',\n",
       " 'lpf_contingency',\n",
       " 'madd',\n",
       " 'mremove',\n",
       " 'name',\n",
       " 'one_port_components',\n",
       " 'opf',\n",
       " 'passive_branch_components',\n",
       " 'passive_branches',\n",
       " 'passive_one_port_components',\n",
       " 'pf',\n",
       " 'plot',\n",
       " 'pnl',\n",
       " 'pypsa_version',\n",
       " 'read_in_default_standard_types',\n",
       " 'remove',\n",
       " 'sclopf',\n",
       " 'set_snapshots',\n",
       " 'shunt_impedances',\n",
       " 'shunt_impedances_t',\n",
       " 'snapshot_weightings',\n",
       " 'snapshots',\n",
       " 'srid',\n",
       " 'standard_type_components',\n",
       " 'storage_units',\n",
       " 'storage_units_t',\n",
       " 'stores',\n",
       " 'stores_t',\n",
       " 'sub_networks',\n",
       " 'sub_networks_t',\n",
       " 'transformer_types',\n",
       " 'transformer_types_t',\n",
       " 'transformers',\n",
       " 'transformers_t']"
      ]
     },
     "execution_count": 12,
     "metadata": {},
     "output_type": "execute_result"
    }
   ],
   "source": [
    "sgn.network.export_to_csv_folder"
   ]
  },
  {
   "cell_type": "markdown",
   "metadata": {},
   "source": [
    "# Compute & export covariance matrices\n",
    "both carriers (solar+wind)\n",
    "\n",
    "12 months"
   ]
  },
  {
   "cell_type": "code",
   "execution_count": 6,
   "metadata": {},
   "outputs": [
    {
     "name": "stderr",
     "output_type": "stream",
     "text": [
      "100%|██████████████████████████████████████████████████████████████████████████████████| 12/12 [02:21<00:00, 11.65s/it]\n"
     ]
    }
   ],
   "source": [
    "for mi in tqdm(range(12)):\n",
    "    armafits = ARMAfit_loader(sgn, mi)\n",
    "    armafits.compute_covariances(save_csv=True, save_npy=True)"
   ]
  },
  {
   "cell_type": "code",
   "execution_count": 1,
   "metadata": {},
   "outputs": [
    {
     "ename": "NameError",
     "evalue": "name 'np' is not defined",
     "output_type": "error",
     "traceback": [
      "\u001b[1;31m---------------------------------------------------------------------------\u001b[0m",
      "\u001b[1;31mNameError\u001b[0m                                 Traceback (most recent call last)",
      "\u001b[1;32m<ipython-input-1-3883f8be8e0c>\u001b[0m in \u001b[0;36m<module>\u001b[1;34m\u001b[0m\n\u001b[1;32m----> 1\u001b[1;33m \u001b[0mnp\u001b[0m\u001b[1;33m.\u001b[0m\u001b[0msavetxt\u001b[0m\u001b[1;33m(\u001b[0m\u001b[0msrc\u001b[0m\u001b[1;33m.\u001b[0m\u001b[0mglobals\u001b[0m\u001b[1;33m.\u001b[0m\u001b[0mdata_path\u001b[0m\u001b[1;33m/\u001b[0m\u001b[1;34m\"processed\"\u001b[0m\u001b[1;33m/\u001b[0m\u001b[1;34m\"wind_capacity.csv\"\u001b[0m\u001b[1;33m,\u001b[0m \u001b[0msgn\u001b[0m\u001b[1;33m.\u001b[0m\u001b[0mwind_capacity\u001b[0m\u001b[1;33m,\u001b[0m \u001b[0mdelimiter\u001b[0m\u001b[1;33m=\u001b[0m\u001b[1;34m\",\"\u001b[0m\u001b[1;33m)\u001b[0m\u001b[1;33m\u001b[0m\u001b[0m\n\u001b[0m\u001b[0;32m      2\u001b[0m \u001b[0mnp\u001b[0m\u001b[1;33m.\u001b[0m\u001b[0msavetxt\u001b[0m\u001b[1;33m(\u001b[0m\u001b[0msrc\u001b[0m\u001b[1;33m.\u001b[0m\u001b[0mglobals\u001b[0m\u001b[1;33m.\u001b[0m\u001b[0mdata_path\u001b[0m\u001b[1;33m/\u001b[0m\u001b[1;34m\"processed\"\u001b[0m\u001b[1;33m/\u001b[0m\u001b[1;34m\"solar_capacity.csv\"\u001b[0m\u001b[1;33m,\u001b[0m \u001b[0msgn\u001b[0m\u001b[1;33m.\u001b[0m\u001b[0msolar_capacity\u001b[0m\u001b[1;33m,\u001b[0m \u001b[0mdelimiter\u001b[0m\u001b[1;33m=\u001b[0m\u001b[1;34m\",\"\u001b[0m\u001b[1;33m)\u001b[0m\u001b[1;33m\u001b[0m\u001b[0m\n\u001b[0;32m      3\u001b[0m \u001b[1;33m\u001b[0m\u001b[0m\n\u001b[0;32m      4\u001b[0m \u001b[0mnp\u001b[0m\u001b[1;33m.\u001b[0m\u001b[0msave\u001b[0m\u001b[1;33m(\u001b[0m\u001b[0msrc\u001b[0m\u001b[1;33m.\u001b[0m\u001b[0mglobals\u001b[0m\u001b[1;33m.\u001b[0m\u001b[0mdata_path\u001b[0m\u001b[1;33m/\u001b[0m\u001b[1;34m\"processed\"\u001b[0m\u001b[1;33m/\u001b[0m\u001b[1;34m\"wind_capacity.npy\"\u001b[0m\u001b[1;33m,\u001b[0m \u001b[0msgn\u001b[0m\u001b[1;33m.\u001b[0m\u001b[0mwind_capacity\u001b[0m\u001b[1;33m,\u001b[0m \u001b[0mallow_pickle\u001b[0m\u001b[1;33m=\u001b[0m\u001b[1;32mFalse\u001b[0m\u001b[1;33m)\u001b[0m\u001b[1;33m\u001b[0m\u001b[0m\n\u001b[0;32m      5\u001b[0m \u001b[0mnp\u001b[0m\u001b[1;33m.\u001b[0m\u001b[0msave\u001b[0m\u001b[1;33m(\u001b[0m\u001b[0msrc\u001b[0m\u001b[1;33m.\u001b[0m\u001b[0mglobals\u001b[0m\u001b[1;33m.\u001b[0m\u001b[0mdata_path\u001b[0m\u001b[1;33m/\u001b[0m\u001b[1;34m\"processed\"\u001b[0m\u001b[1;33m/\u001b[0m\u001b[1;34m\"solar_capacity.npy\"\u001b[0m\u001b[1;33m,\u001b[0m \u001b[0msgn\u001b[0m\u001b[1;33m.\u001b[0m\u001b[0msolar_capacity\u001b[0m\u001b[1;33m,\u001b[0m \u001b[0mallow_pickle\u001b[0m\u001b[1;33m=\u001b[0m\u001b[1;32mFalse\u001b[0m\u001b[1;33m)\u001b[0m\u001b[1;33m\u001b[0m\u001b[0m\n",
      "\u001b[1;31mNameError\u001b[0m: name 'np' is not defined"
     ]
    }
   ],
   "source": [
    "np.savetxt(src.globals.data_path/\"processed\"/\"wind_capacity.csv\", sgn.wind_capacity, delimiter=\",\")\n",
    "np.savetxt(src.globals.data_path/\"processed\"/\"solar_capacity.csv\", sgn.solar_capacity, delimiter=\",\")\n",
    "\n",
    "np.save(src.globals.data_path/\"processed\"/\"wind_capacity.npy\", sgn.wind_capacity, allow_pickle=False)\n",
    "np.save(src.globals.data_path/\"processed\"/\"solar_capacity.npy\", sgn.solar_capacity, allow_pickle=False)"
   ]
  },
  {
   "cell_type": "code",
   "execution_count": null,
   "metadata": {},
   "outputs": [],
   "source": []
  }
 ],
 "metadata": {
  "kernelspec": {
   "display_name": "venvwin",
   "language": "python",
   "name": "venvwin"
  },
  "language_info": {
   "codemirror_mode": {
    "name": "ipython",
    "version": 3
   },
   "file_extension": ".py",
   "mimetype": "text/x-python",
   "name": "python",
   "nbconvert_exporter": "python",
   "pygments_lexer": "ipython3",
   "version": "3.7.0"
  }
 },
 "nbformat": 4,
 "nbformat_minor": 2
}
