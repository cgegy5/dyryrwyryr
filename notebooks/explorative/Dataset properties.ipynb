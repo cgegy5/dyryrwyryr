{
 "cells": [
  {
   "cell_type": "code",
   "execution_count": 1,
   "metadata": {},
   "outputs": [],
   "source": [
    "pretty = True\n",
    "highres = True\n",
    "\n",
    "%matplotlib inline\n",
    "if highres:\n",
    "    %config InlineBackend.figure_format = 'retina'\n",
    "else:\n",
    "    %config InlineBackend.figure_format = 'png'\n",
    "\n",
    "#rcParams[\"figure.dpi\"]=300\n",
    "\n",
    "import sys\n",
    "\n",
    "pypsapath = \"C:/dev/py/PyPSA/\"\n",
    "\n",
    "if sys.path[0] != pypsapath:\n",
    "    sys.path.insert(0,pypsapath)\n",
    "\n",
    "%load_ext autoreload\n",
    "%autoreload 2"
   ]
  },
  {
   "cell_type": "code",
   "execution_count": 2,
   "metadata": {},
   "outputs": [],
   "source": [
    "import pypsa\n",
    "import numpy as np\n",
    "import pandas as pd\n",
    "import os\n",
    "\n",
    "import matplotlib.pyplot as plt\n",
    "\n",
    "from IPython.display import Markdown, display\n",
    "printm = lambda s: display(Markdown(s))"
   ]
  },
  {
   "cell_type": "code",
   "execution_count": 3,
   "metadata": {},
   "outputs": [
    {
     "name": "stderr",
     "output_type": "stream",
     "text": [
      "WARNING:pypsa.io:\n",
      "Importing PyPSA from older version of PyPSA than current version 0.13.2.\n",
      "Please read the release notes at https://pypsa.org/doc/release_notes.html\n",
      "carefully to prepare your network for import.\n",
      "\n",
      "INFO:pypsa.io:Imported network  has buses, generators, lines, loads, storage_units, transformers\n"
     ]
    }
   ],
   "source": [
    "csv_folder_name = pypsapath + \"examples/scigrid-de/scigrid-with-load-gen-trafos/\"\n",
    "\n",
    "network = pypsa.Network(import_name=csv_folder_name)"
   ]
  },
  {
   "cell_type": "markdown",
   "metadata": {},
   "source": [
    "# Overview"
   ]
  },
  {
   "cell_type": "code",
   "execution_count": 4,
   "metadata": {},
   "outputs": [
    {
     "data": {
      "text/markdown": [
       "There are 585 buses, 1423 generators and 489 loads."
      ],
      "text/plain": [
       "<IPython.core.display.Markdown object>"
      ]
     },
     "metadata": {},
     "output_type": "display_data"
    },
    {
     "data": {
      "text/markdown": [
       "There are 38 storage units, of which 38 pumped hydro"
      ],
      "text/plain": [
       "<IPython.core.display.Markdown object>"
      ]
     },
     "metadata": {},
     "output_type": "display_data"
    },
    {
     "data": {
      "text/markdown": [
       "There are 852 lines at voltage levels [220. 380.] kV"
      ],
      "text/plain": [
       "<IPython.core.display.Markdown object>"
      ]
     },
     "metadata": {},
     "output_type": "display_data"
    },
    {
     "data": {
      "text/markdown": [
       "There are 96 transformers"
      ],
      "text/plain": [
       "<IPython.core.display.Markdown object>"
      ]
     },
     "metadata": {},
     "output_type": "display_data"
    }
   ],
   "source": [
    "printm(f\"There are {len(network.buses)} buses, {len(network.generators)} generators and {len(network.loads)} loads.\")\n",
    "printm(f\"There are {len(network.storage_units)} storage units, of which {sum(network.storage_units.carrier == 'Pumped Hydro')} pumped hydro\")\n",
    "printm(f\"There are {len(network.lines)} lines at voltage levels {network.buses.v_nom.unique()} kV\")\n",
    "printm(f\"There are {len(network.transformers)} transformers\")"
   ]
  },
  {
   "cell_type": "code",
   "execution_count": 5,
   "metadata": {
    "scrolled": true
   },
   "outputs": [
    {
     "data": {
      "text/markdown": [
       "**Number of generators per type**"
      ],
      "text/plain": [
       "<IPython.core.display.Markdown object>"
      ]
     },
     "metadata": {},
     "output_type": "display_data"
    },
    {
     "name": "stdout",
     "output_type": "stream",
     "text": [
      "Solar: 489\n",
      "Wind Onshore: 488\n",
      "Wind Offshore: 5\n"
     ]
    }
   ],
   "source": [
    "carrier_counts = network.generators.carrier.value_counts()\n",
    "printm(f\"**Number of generators per type**\")\n",
    "for carrier in [\"Solar\", \"Wind Onshore\", \"Wind Offshore\"]:\n",
    "    print(f\"{carrier}: {carrier_counts[carrier]}\")"
   ]
  },
  {
   "cell_type": "markdown",
   "metadata": {},
   "source": [
    "# Loads"
   ]
  },
  {
   "cell_type": "code",
   "execution_count": 6,
   "metadata": {},
   "outputs": [
    {
     "data": {
      "text/markdown": [
       "There are 0 buses that house more than one load."
      ],
      "text/plain": [
       "<IPython.core.display.Markdown object>"
      ]
     },
     "metadata": {},
     "output_type": "display_data"
    },
    {
     "data": {
      "text/markdown": [
       "No bus houses more than one load. Realistically, this is highly unlikely, which means that multiple loads (i.e. two cities in the same region) are modeled as a single loads. (This is known as _load aggregation_.)"
      ],
      "text/plain": [
       "<IPython.core.display.Markdown object>"
      ]
     },
     "metadata": {},
     "output_type": "display_data"
    }
   ],
   "source": [
    "double_load_buses = sum(network.loads.bus.value_counts()>1)\n",
    "printm(f\"There are {double_load_buses} buses that house more than one load.\")\n",
    "if double_load_buses == 0:\n",
    "    printm(\"No bus houses more than one load. Realistically, this is highly unlikely, which means that multiple loads (i.e. two cities in the same region) are modeled as a single loads. (This is known as _load aggregation_.)\")"
   ]
  },
  {
   "cell_type": "markdown",
   "metadata": {},
   "source": [
    "------------------\n",
    "# Bus pairs\n",
    "\n",
    "Each generator or load connects to exactly one bus, and a single bus can house multiple generators and loads.\n",
    "\n",
    "Let's check whether each generator and load can be linked to a bus in the dataset, and then count the number of buses with no generators or loads (which probably have transformers or transmisison lines connected to them, otherwise they would not be included in the dataset).\n",
    "\n",
    "First, we let's take a look at the bus names."
   ]
  },
  {
   "cell_type": "code",
   "execution_count": 7,
   "metadata": {},
   "outputs": [
    {
     "name": "stdout",
     "output_type": "stream",
     "text": [
      "['1', '2', '3', '4', '5', '6', '7', '8', '9', '10', '11', '12', '13', '14', '15', '16', '17', '18', '19', '20', '21', '22', '23', '24', '25', '26', '27', '28', '29', '30', '31', '32', '33', '34', '35', '36', '37', '38', '39', '40', '41', '42', '43', '44', '45', '46', '47', '48', '49', '50', '51', '52', '53', '54', '55', '56', '57', '58', '59', '60', '61', '62', '63', '64', '65', '66', '67', '68', '69', '70', '71', '72', '73', '74', '75', '76', '77', '78', '79', '80', '81', '82', '83', '84', '85', '86', '87', '88', '89', '90', '91', '92', '93', '94', '95', '96', '97', '98', '99', '100', '101', '102', '103', '104', '105', '106', '107', '108', '109', '110', '111', '112', '113', '114', '115', '116', '117', '118', '119', '120', '121', '122', '123', '124', '125', '126', '127', '128', '129', '130', '131', '132', '133', '134', '135', '136', '137', '138', '139', '140', '141', '142', '143', '144', '145', '146', '147', '148', '149', '150', '151', '152', '153', '154', '155', '156', '157', '158', '159', '160', '161', '162', '163', '164', '165', '166', '167', '168', '169', '170', '171', '172', '173', '174', '175', '176', '177', '178', '179', '180', '181', '182', '183', '184', '185', '186', '187', '188', '189', '190', '191', '192', '193', '194', '195', '196', '197', '198', '199', '200', '201', '202', '203', '204', '205', '206', '207', '208', '209', '210', '211', '212', '213', '214', '215', '216', '217', '218', '219', '220', '221', '222', '223', '224', '225', '226', '227', '228', '229', '230', '231', '232', '233', '234', '235', '236', '237', '238', '239', '240', '241', '242', '245', '246', '247', '248', '249', '250', '251', '252', '253', '254', '255', '256', '257', '258', '259', '260', '261', '262', '263', '264', '265', '266', '267', '268', '269', '270', '271', '272', '273', '274', '275', '276', '277', '278', '279', '280', '281', '282', '283', '284', '285', '286', '287', '288', '289', '290', '291', '292', '293', '294', '295', '296', '297', '298', '299', '300', '301', '302', '303', '304', '305', '306', '307', '308', '309', '310', '311', '312', '313', '314', '315', '316', '317', '318', '319', '320', '321', '322', '323', '324', '325', '326', '327', '328', '329', '330', '331', '332', '333', '334', '335', '336', '337', '338', '339', '340', '341', '342', '343', '344', '345', '346', '347', '348', '349', '350', '351', '352', '353', '354', '355', '356', '357', '358', '359', '360', '361', '362', '363', '364', '365', '366', '367', '368', '369', '370', '371', '372', '373', '374', '375', '376', '377', '378', '379', '380', '381', '382', '383', '384', '385', '386', '387', '388', '389', '390', '391', '392', '393', '394', '395', '396', '397', '398', '399', '400', '401', '402', '403', '404', '405', '406', '409', '410', '411', '412', '413', '414', '415', '416', '417', '418', '421', '422', '423', '424', '425', '426', '427', '428', '429', '430', '431', '432', '433', '434', '435', '436', '437', '438', '439', '440', '441', '442', '443', '444', '445', '446', '447', '448', '449', '450', '451', '452', '453', '454', '455', '456', '457', '458', '459', '460', '461', '462', '463', '464', '465', '466', '467', '468', '469', '470', '471', '472', '473', '474', '475', '476', '477', '478', '479', '480', '481', '482', '483', '484', '485', '486', '487', '488', '489', '490', '491', '492', '493', '494', '495', '2_220kV', '5_220kV', '10_220kV', '12_220kV', '13_220kV', '15_220kV', '18_220kV', '20_220kV', '22_220kV', '24_220kV', '26_220kV', '30_220kV', '32_220kV', '37_220kV', '42_220kV', '46_220kV', '52_220kV', '56_220kV', '61_220kV', '68_220kV', '69_220kV', '74_220kV', '78_220kV', '86_220kV', '87_220kV', '94_220kV', '95_220kV', '96_220kV', '99_220kV', '100_220kV', '104_220kV', '105_220kV', '106_220kV', '107_220kV', '117_220kV', '120_220kV', '123_220kV', '124_220kV', '125_220kV', '128_220kV', '129_220kV', '138_220kV', '143_220kV', '156_220kV', '157_220kV', '159_220kV', '160_220kV', '165_220kV', '184_220kV', '191_220kV', '195_220kV', '201_220kV', '220_220kV', '231_220kV', '232_220kV', '233_220kV', '236_220kV', '247_220kV', '248_220kV', '250_220kV', '251_220kV', '252_220kV', '261_220kV', '263_220kV', '264_220kV', '267_220kV', '272_220kV', '279_220kV', '281_220kV', '282_220kV', '292_220kV', '303_220kV', '307_220kV', '308_220kV', '312_220kV', '315_220kV', '317_220kV', '322_220kV', '332_220kV', '334_220kV', '336_220kV', '338_220kV', '351_220kV', '353_220kV', '360_220kV', '362_220kV', '382_220kV', '384_220kV', '385_220kV', '391_220kV', '403_220kV', '404_220kV', '413_220kV', '421_220kV', '450_220kV', '458_220kV']\n"
     ]
    }
   ],
   "source": [
    "bus_names = list(network.buses.index)\n",
    "print(bus_names)"
   ]
  },
  {
   "cell_type": "markdown",
   "metadata": {},
   "source": [
    "Buses are labeled 1 through 495 (although some numbers are skipped, like '243'). Some numbers are used again, with the `_220kV` suffix. These double numbers probably indicate a substation that transforms between 380kV and 220kV, with lines, generators or loads connected to both voltages. The substation therefore houses a transformer, and it is modeled as two distinct nodes. Let's check this assumption:"
   ]
  },
  {
   "cell_type": "markdown",
   "metadata": {},
   "source": [
    "## Transformers between bus pairs"
   ]
  },
  {
   "cell_type": "code",
   "execution_count": 8,
   "metadata": {},
   "outputs": [
    {
     "data": {
      "text/markdown": [
       "96 bus names end in `_220kV`. Compare this to the number of transformers: 96"
      ],
      "text/plain": [
       "<IPython.core.display.Markdown object>"
      ]
     },
     "metadata": {},
     "output_type": "display_data"
    },
    {
     "data": {
      "text/markdown": [
       "After removing the `_220kV` suffix, 96 buses have a second bus with the same name."
      ],
      "text/plain": [
       "<IPython.core.display.Markdown object>"
      ]
     },
     "metadata": {},
     "output_type": "display_data"
    },
    {
     "data": {
      "text/markdown": [
       "Of these 380-220 bus pairs, 96 are connected by a transformer."
      ],
      "text/plain": [
       "<IPython.core.display.Markdown object>"
      ]
     },
     "metadata": {},
     "output_type": "display_data"
    }
   ],
   "source": [
    "bus_names_220_suffix = [n for n in bus_names if n[-6:]==\"_220kV\"]\n",
    "printm(f\"{len(bus_names_220_suffix)} bus names end in `_220kV`. Compare this to the number of transformers: {len(network.transformers)}\")\n",
    "\n",
    "suffix_removed = [n[:-6] for n in bus_names_220_suffix]\n",
    "printm(f\"After removing the `_220kV` suffix, {sum((n in bus_names) for n in suffix_removed)} buses have a second bus with the same name.\")\n",
    "\n",
    "pairs = list(zip(suffix_removed, bus_names_220_suffix))\n",
    "number_of_transformer_connected_pairs = 0\n",
    "\n",
    "for threethirty_name, twotwenty_name in pairs:\n",
    "    number_of_transformer_connected_pairs += ((network.transformers.bus0 == threethirty_name) & (network.transformers.bus0 == threethirty_name)).any()\n",
    "\n",
    "printm(f\"Of these 380-220 bus pairs, {number_of_transformer_connected_pairs} are connected by a transformer.\")"
   ]
  },
  {
   "cell_type": "markdown",
   "metadata": {},
   "source": [
    "## Generators at bus pairs"
   ]
  },
  {
   "cell_type": "code",
   "execution_count": 9,
   "metadata": {},
   "outputs": [
    {
     "data": {
      "text/markdown": [
       "Of the 96 380-220 bus pairs, 0 have generators connected to both buses."
      ],
      "text/plain": [
       "<IPython.core.display.Markdown object>"
      ]
     },
     "metadata": {},
     "output_type": "display_data"
    },
    {
     "data": {
      "text/markdown": [
       "No bus houses more than one generator of the same type. Realistically, this is highly unlikely, which means that multiple generators (i.e. two solar parks in the same region) are modeled as a single generator."
      ],
      "text/plain": [
       "<IPython.core.display.Markdown object>"
      ]
     },
     "metadata": {},
     "output_type": "display_data"
    }
   ],
   "source": [
    "generator_buses = network.generators.bus.unique()\n",
    "\n",
    "printm(f\"Of the {len(pairs)} 380-220 bus pairs, {sum((n in generator_buses) and (n220 in generator_buses) for n, n220 in pairs)} have generators connected to both buses.\")\n",
    "\n",
    "any_non_aggregated_buses = False\n",
    "for n,df in network.generators.groupby('bus'):\n",
    "    if (df.carrier.value_counts() > 1).any():\n",
    "        printm(f\"Bus {n} houses multiple generators of the same type\")\n",
    "        any_non_aggregated_buses = True\n",
    "\n",
    "if not any_non_aggregated_buses:\n",
    "    printm(\"No bus houses more than one generator of the same type. Realistically, this is highly unlikely, which means that multiple generators (i.e. two solar parks in the same region) are modeled as a single generator.\")"
   ]
  },
  {
   "cell_type": "markdown",
   "metadata": {},
   "source": [
    "## Loads at bus pairs"
   ]
  },
  {
   "cell_type": "code",
   "execution_count": 10,
   "metadata": {},
   "outputs": [
    {
     "data": {
      "text/markdown": [
       "Of the 96 380-220 bus pairs, 0 have loads connected to both buses."
      ],
      "text/plain": [
       "<IPython.core.display.Markdown object>"
      ]
     },
     "metadata": {},
     "output_type": "display_data"
    }
   ],
   "source": [
    "load_buses = network.loads.bus.unique()\n",
    "\n",
    "printm(f\"Of the {len(pairs)} 380-220 bus pairs, {sum((n in load_buses) and (n220 in load_buses) for n, n220 in pairs)} have loads connected to both buses.\")"
   ]
  },
  {
   "cell_type": "markdown",
   "metadata": {},
   "source": [
    "## Loads _or_ generators at bus pairs"
   ]
  },
  {
   "cell_type": "code",
   "execution_count": 11,
   "metadata": {},
   "outputs": [
    {
     "data": {
      "text/markdown": [
       "0 pairs do not house generators and loads on the same bus."
      ],
      "text/plain": [
       "<IPython.core.display.Markdown object>"
      ]
     },
     "metadata": {},
     "output_type": "display_data"
    },
    {
     "data": {
      "text/markdown": [
       "96 pairs have a load or generator connected to the `_220kV` bus."
      ],
      "text/plain": [
       "<IPython.core.display.Markdown object>"
      ]
     },
     "metadata": {},
     "output_type": "display_data"
    }
   ],
   "source": [
    "printm(f\"{sum((n in load_buses or n in generator_buses) and (n220 in load_buses or n220 in generator_buses) for n, n220 in pairs)} pairs do not house generators and loads on the same bus.\")\n",
    "printm(f\"{sum((n220 in load_buses or n220 in generator_buses) for n, n220 in pairs)} pairs have a load or generator connected to the `_220kV` bus.\")"
   ]
  },
  {
   "cell_type": "markdown",
   "metadata": {},
   "source": [
    "## Conclusion\n",
    "\n",
    "In the case of the SciGRID dataset for Germany, there are 96 pairs of buses with the same name. For each pair, one of them operates at 220kV and the other at 380kV. These pairs correspond exactly to the 96 transformers in the dataset.\n",
    "\n",
    "At each pair, all loads and generators are connected to the 220kV bus.\n",
    "\n",
    "This means that in this dataset, **some loads and generators are connected to a 380kV bus _via a 220-380 transformer_**, but never the other way around. \n",
    "\n",
    "If we consider those 380-220 bus pairs as a single node, we find that **in this particular model**:\n",
    "* **Every node houses a single load.**\n",
    "* **Every node houses a single solar generator.** Almost every node houses a single onshore wind generator. Some nodes house a single offshore wind generator."
   ]
  },
  {
   "cell_type": "markdown",
   "metadata": {},
   "source": [
    "## Unpaired buses\n",
    "Some buses have no '220' double. This does not mean that these buses are 380kV buses:"
   ]
  },
  {
   "cell_type": "code",
   "execution_count": 12,
   "metadata": {},
   "outputs": [
    {
     "data": {
      "text/markdown": [
       "Of the remaining 489 buses, there are"
      ],
      "text/plain": [
       "<IPython.core.display.Markdown object>"
      ]
     },
     "metadata": {},
     "output_type": "display_data"
    },
    {
     "data": {
      "text/markdown": [
       "288 buses at 380.0kV"
      ],
      "text/plain": [
       "<IPython.core.display.Markdown object>"
      ]
     },
     "metadata": {},
     "output_type": "display_data"
    },
    {
     "data": {
      "text/markdown": [
       "201 buses at 220.0kV"
      ],
      "text/plain": [
       "<IPython.core.display.Markdown object>"
      ]
     },
     "metadata": {},
     "output_type": "display_data"
    }
   ],
   "source": [
    "unpaired_buses = network.buses[[(n not in bus_names_220_suffix) for n in bus_names]]\n",
    "unpaired_bus_voltages = unpaired_buses.v_nom.value_counts()\n",
    "\n",
    "printm(f\"Of the remaining {len(unpaired_buses)} buses, there are\")\n",
    "for voltage, num in unpaired_bus_voltages.iteritems():\n",
    "    printm(f\"{num} buses at {voltage}kV\")"
   ]
  },
  {
   "cell_type": "markdown",
   "metadata": {},
   "source": [
    "These unpaired 220kV buses also house generators and loads:"
   ]
  },
  {
   "cell_type": "code",
   "execution_count": 13,
   "metadata": {},
   "outputs": [
    {
     "data": {
      "text/markdown": [
       "The 201 unpaired 220kV buses house a total of 600 generators and 201 loads."
      ],
      "text/plain": [
       "<IPython.core.display.Markdown object>"
      ]
     },
     "metadata": {},
     "output_type": "display_data"
    }
   ],
   "source": [
    "unpaired_220_buses = unpaired_buses[unpaired_buses.v_nom < 300]\n",
    "\n",
    "printm(f\"The {len(unpaired_220_buses)} unpaired 220kV buses house a total of {sum(b in unpaired_220_buses.index for b in network.generators.bus)} generators and {sum(b in unpaired_220_buses.index for b in network.loads.bus)} loads.\")\n"
   ]
  },
  {
   "cell_type": "markdown",
   "metadata": {},
   "source": [
    "# Generators per bus"
   ]
  },
  {
   "cell_type": "code",
   "execution_count": 14,
   "metadata": {},
   "outputs": [
    {
     "data": {
      "text/markdown": [
       "There are 489 buses housing renewable generators."
      ],
      "text/plain": [
       "<IPython.core.display.Markdown object>"
      ]
     },
     "metadata": {},
     "output_type": "display_data"
    },
    {
     "data": {
      "text/markdown": [
       "This means that every substation in the network houses a renewable generator. Well done Germany!"
      ],
      "text/plain": [
       "<IPython.core.display.Markdown object>"
      ]
     },
     "metadata": {},
     "output_type": "display_data"
    },
    {
     "data": {
      "text/markdown": [
       "There are 96 buses that do not house a renewable generator, of which 0 house a non-renewable generator."
      ],
      "text/plain": [
       "<IPython.core.display.Markdown object>"
      ]
     },
     "metadata": {},
     "output_type": "display_data"
    }
   ],
   "source": [
    "renewable_carriers = [\"Solar\", \"Wind Onshore\", \"Wind Offshore\"]\n",
    "generator_buses_renewable = []\n",
    "\n",
    "for n, df in network.generators.groupby('bus'):\n",
    "    if sum((t in renewable_carriers) for t in df.carrier):\n",
    "        generator_buses_renewable.append(n)\n",
    "\n",
    "printm(f\"There are {len(generator_buses_renewable)} buses housing renewable generators.\")\n",
    "if(len(generator_buses_renewable) == len(generator_buses)):\n",
    "    printm(f\"This means that every substation in the network houses a renewable generator. Well done Germany!\")\n",
    "\n",
    "\n",
    "generator_buses_purely_gray = [n for n in generator_buses if n not in generator_buses_renewable]\n",
    "printm(f\"There are {len(network.buses)-len(generator_buses_renewable)} buses that do not house a renewable generator, of which {len(generator_buses_purely_gray)} house a non-renewable generator.\")"
   ]
  },
  {
   "cell_type": "code",
   "execution_count": null,
   "metadata": {},
   "outputs": [],
   "source": []
  },
  {
   "cell_type": "code",
   "execution_count": null,
   "metadata": {},
   "outputs": [],
   "source": []
  },
  {
   "cell_type": "code",
   "execution_count": null,
   "metadata": {},
   "outputs": [],
   "source": []
  }
 ],
 "metadata": {
  "kernelspec": {
   "display_name": "venvwin",
   "language": "python",
   "name": "venvwin"
  },
  "language_info": {
   "codemirror_mode": {
    "name": "ipython",
    "version": 3
   },
   "file_extension": ".py",
   "mimetype": "text/x-python",
   "name": "python",
   "nbconvert_exporter": "python",
   "pygments_lexer": "ipython3",
   "version": "3.7.0"
  }
 },
 "nbformat": 4,
 "nbformat_minor": 2
}
