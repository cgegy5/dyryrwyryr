{
 "cells": [
  {
   "cell_type": "code",
   "execution_count": 29,
   "metadata": {},
   "outputs": [],
   "source": [
    "import numpy as np"
   ]
  },
  {
   "cell_type": "code",
   "execution_count": 5,
   "metadata": {},
   "outputs": [],
   "source": [
    "nodes = [1,2,3]\n",
    "lines = [(1,2),(2,3)]\n",
    "\n",
    "n = len(nodes)\n",
    "m = len(lines)\n",
    "\n",
    "\n",
    "_=\"\"\"\n",
    "\n",
    " 1 -------------> 2 -------------> 3\n",
    "\n",
    "\"\"\""
   ]
  },
  {
   "cell_type": "code",
   "execution_count": 54,
   "metadata": {},
   "outputs": [
    {
     "data": {
      "text/plain": [
       "array([[ 1., -1.,  0.],\n",
       "       [ 0.,  1., -1.]])"
      ]
     },
     "execution_count": 54,
     "metadata": {},
     "output_type": "execute_result"
    }
   ],
   "source": [
    "def Cli(l,i):\n",
    "    if any((i+1,ji+1)==lines[l] for ji in range(n)):\n",
    "        return 1.0\n",
    "    if any((ji+1,i+1)==lines[l] for ji in range(n)):\n",
    "        return -1.0\n",
    "    return 0.0\n",
    "\n",
    "\n",
    "C = np.fromfunction(np.vectorize(Cli),(m,n),dtype=int)\n",
    "C"
   ]
  },
  {
   "cell_type": "code",
   "execution_count": 55,
   "metadata": {},
   "outputs": [],
   "source": [
    "beta = np.array([20.0, 1.0])"
   ]
  },
  {
   "cell_type": "code",
   "execution_count": 61,
   "metadata": {},
   "outputs": [],
   "source": [
    "V = np.array([[9,7,6]]).T\n"
   ]
  },
  {
   "cell_type": "code",
   "execution_count": 66,
   "metadata": {},
   "outputs": [
    {
     "name": "stdout",
     "output_type": "stream",
     "text": [
      "Vdiff:\n",
      " [[2.]\n",
      " [1.]]\n",
      "I:\n",
      " [[40.]\n",
      " [ 1.]]\n"
     ]
    }
   ],
   "source": [
    "Vdiff = C.dot(V)\n",
    "print(\"Vdiff:\\n\",Vdiff)\n",
    "\n",
    "I = np.diag(beta).dot(Vdiff)\n",
    "print(\"I:\\n\",I)\n"
   ]
  },
  {
   "cell_type": "code",
   "execution_count": 72,
   "metadata": {},
   "outputs": [
    {
     "data": {
      "text/plain": [
       "array([[-360.],\n",
       "       [ 273.],\n",
       "       [   6.]])"
      ]
     },
     "execution_count": 72,
     "metadata": {},
     "output_type": "execute_result"
    }
   ],
   "source": [
    "i = 2\n",
    "\n",
    "V*(-C.T.dot(I)).conj()"
   ]
  },
  {
   "cell_type": "code",
   "execution_count": 91,
   "metadata": {},
   "outputs": [
    {
     "data": {
      "text/plain": [
       "array([[ 0.80883163+0.29109241j,  0.96058418+0.95923363j,\n",
       "         0.24564999+0.54751662j],\n",
       "       [ 0.08725932-0.05983j   , -0.02161362-0.45564345j,\n",
       "         0.03685463-0.50058923j],\n",
       "       [ 0.83217534+0.761374j  , -0.27232623-0.46672988j,\n",
       "        -0.50599703+0.34633861j]])"
      ]
     },
     "execution_count": 91,
     "metadata": {},
     "output_type": "execute_result"
    }
   ],
   "source": [
    "A = 2*np.random.rand(3,3)-1 + 2j * np.random.rand(3,3) - 1j\n",
    "B = 2*np.random.rand(3,3)-1 + 2j * np.random.rand(3,3) - 1j\n",
    "A"
   ]
  },
  {
   "cell_type": "code",
   "execution_count": 92,
   "metadata": {},
   "outputs": [
    {
     "data": {
      "text/plain": [
       "array([[0.+0.j, 0.+0.j, 0.+0.j],\n",
       "       [0.+0.j, 0.+0.j, 0.+0.j],\n",
       "       [0.+0.j, 0.+0.j, 0.+0.j]])"
      ]
     },
     "execution_count": 92,
     "metadata": {},
     "output_type": "execute_result"
    }
   ],
   "source": [
    "A.conj().dot(B.conj()) - (A.dot(B)).conj()"
   ]
  },
  {
   "cell_type": "code",
   "execution_count": null,
   "metadata": {},
   "outputs": [],
   "source": []
  }
 ],
 "metadata": {
  "kernelspec": {
   "display_name": "venvwin",
   "language": "python",
   "name": "venvwin"
  },
  "language_info": {
   "codemirror_mode": {
    "name": "ipython",
    "version": 3
   },
   "file_extension": ".py",
   "mimetype": "text/x-python",
   "name": "python",
   "nbconvert_exporter": "python",
   "pygments_lexer": "ipython3",
   "version": "3.7.0"
  }
 },
 "nbformat": 4,
 "nbformat_minor": 2
}
