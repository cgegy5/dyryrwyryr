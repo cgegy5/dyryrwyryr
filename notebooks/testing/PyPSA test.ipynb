{
 "cells": [
  {
   "cell_type": "code",
   "execution_count": 14,
   "metadata": {},
   "outputs": [],
   "source": [
    "import pypsa\n",
    "import numpy as np\n",
    "import math"
   ]
  },
  {
   "cell_type": "code",
   "execution_count": 15,
   "metadata": {},
   "outputs": [],
   "source": [
    "network = pypsa.Network()\n",
    "for i in range(3):\n",
    "    network.add(\"Bus\",\"numero \"+str(i), v_nom=37., x=math.cos(i/3.0*2.*3.14159), y=math.sin(i/3.0*2.*3.14159))\n",
    "for i in range(3):\n",
    "    network.add(\"Line\",\"lijntje \"+str(i), bus0=network.buses.index[i-1], bus1=network.buses.index[i], x=.1, r=.0)\n",
    "\n",
    "network.add(\"Generator\", \"waterval\", bus=network.buses.index[0], p_set=100)\n",
    "network.add(\"Load\", \"koelkast\", bus=network.buses.index[-1], p_set=120)\n",
    "\n",
    "network.loads.q_set = 100"
   ]
  },
  {
   "cell_type": "code",
   "execution_count": 16,
   "metadata": {},
   "outputs": [
    {
     "name": "stdout",
     "output_type": "stream",
     "text": [
      "attribute  v_nom type         x         y carrier  v_mag_pu_set  v_mag_pu_min  \\\n",
      "numero 0    37.0       1.000000  0.000000      AC           1.0           0.0   \n",
      "numero 1    37.0      -0.499998  0.866026      AC           1.0           0.0   \n",
      "numero 2    37.0      -0.500003 -0.866024      AC           1.0           0.0   \n",
      "\n",
      "attribute  v_mag_pu_max control sub_network  \n",
      "numero 0            inf      PQ              \n",
      "numero 1            inf      PQ              \n",
      "numero 2            inf      PQ              \n"
     ]
    }
   ],
   "source": [
    "print(network.buses)"
   ]
  },
  {
   "cell_type": "code",
   "execution_count": 17,
   "metadata": {},
   "outputs": [
    {
     "name": "stdout",
     "output_type": "stream",
     "text": [
      "attribute      bus0      bus1 type    x    r    g    b  s_nom  \\\n",
      "lijntje 0  numero 2  numero 0       0.1  0.0  0.0  0.0    0.0   \n",
      "lijntje 1  numero 0  numero 1       0.1  0.0  0.0  0.0    0.0   \n",
      "lijntje 2  numero 1  numero 2       0.1  0.0  0.0  0.0    0.0   \n",
      "\n",
      "attribute  s_nom_extendable  s_nom_min    ...      v_ang_min  v_ang_max  \\\n",
      "lijntje 0             False        0.0    ...           -inf        inf   \n",
      "lijntje 1             False        0.0    ...           -inf        inf   \n",
      "lijntje 2             False        0.0    ...           -inf        inf   \n",
      "\n",
      "attribute  sub_network  x_pu  r_pu  g_pu  b_pu  x_pu_eff r_pu_eff  s_nom_opt  \n",
      "lijntje 0                0.0   0.0   0.0   0.0       0.0      0.0        0.0  \n",
      "lijntje 1                0.0   0.0   0.0   0.0       0.0      0.0        0.0  \n",
      "lijntje 2                0.0   0.0   0.0   0.0       0.0      0.0        0.0  \n",
      "\n",
      "[3 rows x 26 columns]\n"
     ]
    }
   ],
   "source": [
    "print(network.lines)"
   ]
  },
  {
   "cell_type": "code",
   "execution_count": 18,
   "metadata": {},
   "outputs": [
    {
     "name": "stdout",
     "output_type": "stream",
     "text": [
      "attribute       bus control type  p_nom  p_nom_extendable  p_nom_min  \\\n",
      "waterval   numero 0      PQ         0.0             False        0.0   \n",
      "\n",
      "attribute  p_nom_max  p_min_pu  p_max_pu  p_set    ...      start_up_cost  \\\n",
      "waterval         inf       0.0       1.0  100.0    ...                0.0   \n",
      "\n",
      "attribute  shut_down_cost min_up_time  min_down_time  initial_status  \\\n",
      "waterval              0.0           0              0               1   \n",
      "\n",
      "attribute  ramp_limit_up  ramp_limit_down  ramp_limit_start_up  \\\n",
      "waterval             NaN              NaN                  1.0   \n",
      "\n",
      "attribute  ramp_limit_shut_down  p_nom_opt  \n",
      "waterval                    1.0        0.0  \n",
      "\n",
      "[1 rows x 27 columns]\n"
     ]
    }
   ],
   "source": [
    "print(network.generators)"
   ]
  },
  {
   "cell_type": "code",
   "execution_count": 19,
   "metadata": {},
   "outputs": [
    {
     "name": "stdout",
     "output_type": "stream",
     "text": [
      "attribute       bus type  p_set  q_set  sign\n",
      "koelkast   numero 2       120.0    100  -1.0\n"
     ]
    }
   ],
   "source": [
    "print(network.loads)"
   ]
  },
  {
   "cell_type": "code",
   "execution_count": 20,
   "metadata": {},
   "outputs": [
    {
     "name": "stderr",
     "output_type": "stream",
     "text": [
      "INFO:pypsa.pf:Slack bus for sub-network 0 is numero 0\n",
      "INFO:pypsa.pf:Performing non-linear load-flow on AC sub-network SubNetwork 0 for snapshots Index(['now'], dtype='object')\n",
      "INFO:pypsa.pf:Newton-Raphson solved in 3 iterations with error of 0.000000 in 0.023936 seconds\n"
     ]
    },
    {
     "data": {
      "text/plain": [
       "{'n_iter':      0\n",
       " now  3, 'error':                 0\n",
       " now  3.041123e-12, 'converged':         0\n",
       " now  True}"
      ]
     },
     "execution_count": 20,
     "metadata": {},
     "output_type": "execute_result"
    }
   ],
   "source": [
    "network.pf()"
   ]
  },
  {
   "cell_type": "code",
   "execution_count": 21,
   "metadata": {},
   "outputs": [
    {
     "name": "stdout",
     "output_type": "stream",
     "text": [
      "{'p_min_pu': Empty DataFrame\n",
      "Columns: []\n",
      "Index: [now], 'p_max_pu': Empty DataFrame\n",
      "Columns: []\n",
      "Index: [now], 'p_set': Empty DataFrame\n",
      "Columns: []\n",
      "Index: [now], 'q_set': Empty DataFrame\n",
      "Columns: []\n",
      "Index: [now], 'marginal_cost': Empty DataFrame\n",
      "Columns: []\n",
      "Index: [now], 'p':      waterval\n",
      "now     120.0, 'q':        waterval\n",
      "now  101.199972, 'status': Empty DataFrame\n",
      "Columns: []\n",
      "Index: [now]}\n"
     ]
    }
   ],
   "source": [
    "print(network.generators_t)"
   ]
  },
  {
   "cell_type": "code",
   "execution_count": null,
   "metadata": {},
   "outputs": [],
   "source": []
  },
  {
   "cell_type": "code",
   "execution_count": null,
   "metadata": {},
   "outputs": [],
   "source": []
  },
  {
   "cell_type": "code",
   "execution_count": null,
   "metadata": {},
   "outputs": [],
   "source": []
  }
 ],
 "metadata": {
  "kernelspec": {
   "display_name": "venvwin",
   "language": "python",
   "name": "venvwin"
  },
  "language_info": {
   "codemirror_mode": {
    "name": "ipython",
    "version": 3
   },
   "file_extension": ".py",
   "mimetype": "text/x-python",
   "name": "python",
   "nbconvert_exporter": "python",
   "pygments_lexer": "ipython3",
   "version": "3.7.0"
  }
 },
 "nbformat": 4,
 "nbformat_minor": 2
}
